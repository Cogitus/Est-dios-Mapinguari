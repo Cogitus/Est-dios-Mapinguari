{
 "cells": [
  {
   "cell_type": "code",
   "execution_count": 43,
   "metadata": {},
   "outputs": [],
   "source": [
    "# primeiro importa o csv\n",
    "import pandas as pd\n",
    "import matplotlib.pyplot as plt\n",
    "\n",
    "uri = 'https://raw.githubusercontent.com/Cogitus/Est-dios-Mapinguari/master/tabelas/Tabela%2BReferencia%2BAuditoria%2Bde%2BObras%2BP%C3%BAblicas%2B-%2BAN%C3%81LISE%2BAVAN%C3%87ADA%2B-%2B03%2BEMPRESAS%20-%20Custo%20UnitxQuant%20(Input).csv'"
   ]
  },
  {
   "cell_type": "code",
   "execution_count": 44,
   "metadata": {
    "scrolled": true
   },
   "outputs": [
    {
     "data": {
      "text/html": [
       "<div>\n",
       "<style scoped>\n",
       "    .dataframe tbody tr th:only-of-type {\n",
       "        vertical-align: middle;\n",
       "    }\n",
       "\n",
       "    .dataframe tbody tr th {\n",
       "        vertical-align: top;\n",
       "    }\n",
       "\n",
       "    .dataframe thead th {\n",
       "        text-align: right;\n",
       "    }\n",
       "</style>\n",
       "<table border=\"1\" class=\"dataframe\">\n",
       "  <thead>\n",
       "    <tr style=\"text-align: right;\">\n",
       "      <th></th>\n",
       "      <th>ITEM</th>\n",
       "      <th>REFORMA DA PRAÇA MUNICIPAL SÃO JOÃO BATISTA</th>\n",
       "      <th>UND.</th>\n",
       "      <th>QUANT.</th>\n",
       "      <th>PRECO_UNIT_0</th>\n",
       "      <th>PRECO_UNIT_1</th>\n",
       "      <th>PRECO_UNIT_2</th>\n",
       "      <th>PRECO_UNIT_3</th>\n",
       "    </tr>\n",
       "  </thead>\n",
       "  <tbody>\n",
       "    <tr>\n",
       "      <th>0</th>\n",
       "      <td>NaN</td>\n",
       "      <td>1 DEMOLIÇÕES</td>\n",
       "      <td>NaN</td>\n",
       "      <td>NaN</td>\n",
       "      <td>NaN</td>\n",
       "      <td>NaN</td>\n",
       "      <td>NaN</td>\n",
       "      <td>NaN</td>\n",
       "    </tr>\n",
       "    <tr>\n",
       "      <th>1</th>\n",
       "      <td>1.1</td>\n",
       "      <td>Demolição de revestimentos de pedras naturais</td>\n",
       "      <td>m²</td>\n",
       "      <td>15.0</td>\n",
       "      <td>18.90</td>\n",
       "      <td>18.70</td>\n",
       "      <td>18.25</td>\n",
       "      <td>18.35</td>\n",
       "    </tr>\n",
       "    <tr>\n",
       "      <th>2</th>\n",
       "      <td>1.2</td>\n",
       "      <td>Demolição de revestimentos de pedras naturais</td>\n",
       "      <td>m²</td>\n",
       "      <td>16.0</td>\n",
       "      <td>18.80</td>\n",
       "      <td>18.65</td>\n",
       "      <td>18.20</td>\n",
       "      <td>18.30</td>\n",
       "    </tr>\n",
       "    <tr>\n",
       "      <th>3</th>\n",
       "      <td>1.3</td>\n",
       "      <td>Demolição de revestimentos de pedras naturais</td>\n",
       "      <td>m²</td>\n",
       "      <td>17.0</td>\n",
       "      <td>18.70</td>\n",
       "      <td>18.60</td>\n",
       "      <td>18.15</td>\n",
       "      <td>18.25</td>\n",
       "    </tr>\n",
       "    <tr>\n",
       "      <th>4</th>\n",
       "      <td>1.4</td>\n",
       "      <td>Demolição de revestimentos de pedras naturais</td>\n",
       "      <td>m²</td>\n",
       "      <td>18.0</td>\n",
       "      <td>18.60</td>\n",
       "      <td>18.55</td>\n",
       "      <td>18.10</td>\n",
       "      <td>18.20</td>\n",
       "    </tr>\n",
       "  </tbody>\n",
       "</table>\n",
       "</div>"
      ],
      "text/plain": [
       "   ITEM    REFORMA DA PRAÇA MUNICIPAL SÃO JOÃO BATISTA UND.  QUANT.  \\\n",
       "0   NaN                                  1 DEMOLIÇÕES   NaN     NaN   \n",
       "1   1.1  Demolição de revestimentos de pedras naturais   m²    15.0   \n",
       "2   1.2  Demolição de revestimentos de pedras naturais   m²    16.0   \n",
       "3   1.3  Demolição de revestimentos de pedras naturais   m²    17.0   \n",
       "4   1.4  Demolição de revestimentos de pedras naturais   m²    18.0   \n",
       "\n",
       "  PRECO_UNIT_0  PRECO_UNIT_1  PRECO_UNIT_2  PRECO_UNIT_3  \n",
       "0          NaN           NaN           NaN           NaN  \n",
       "1        18.90         18.70         18.25         18.35  \n",
       "2        18.80         18.65         18.20         18.30  \n",
       "3        18.70         18.60         18.15         18.25  \n",
       "4        18.60         18.55         18.10         18.20  "
      ]
     },
     "execution_count": 44,
     "metadata": {},
     "output_type": "execute_result"
    }
   ],
   "source": [
    "#importando para um objeto Pandas\n",
    "\n",
    "dados = pd.read_csv(uri)\n",
    "dados.head()"
   ]
  },
  {
   "cell_type": "code",
   "execution_count": 45,
   "metadata": {},
   "outputs": [],
   "source": [
    "# elimina os NaN\n",
    "\n",
    "dados = dados.dropna()"
   ]
  },
  {
   "cell_type": "code",
   "execution_count": 46,
   "metadata": {},
   "outputs": [
    {
     "name": "stdout",
     "output_type": "stream",
     "text": [
      "4 , 220\n"
     ]
    }
   ],
   "source": [
    "# a quinta coluna é o preço contido no edital\n",
    "# aqui chamamos de PRECO_UNIT\n",
    "\n",
    "# PRECO_UNIT_0 se refere à referência\n",
    "# dos preços contidos no edital\n",
    "\n",
    "qntEmp = dados.shape[1] - 4\n",
    "qntItems = dados.shape[0]\n",
    "\n",
    "print(f'{qntEmp} , {qntItems}')"
   ]
  },
  {
   "cell_type": "code",
   "execution_count": 47,
   "metadata": {
    "scrolled": true
   },
   "outputs": [],
   "source": [
    "# convertemos pra float, pois essa coluna não estava sendo identificada (type = object)\n",
    "dados[\"PRECO_UNIT_0\"] = dados.PRECO_UNIT_0.astype(float)\n",
    "dados[\"PRECO_UNIT_1\"] = dados.PRECO_UNIT_1.astype(float)\n",
    "dados[\"PRECO_UNIT_2\"] = dados.PRECO_UNIT_2.astype(float)\n",
    "dados[\"PRECO_UNIT_3\"] = dados.PRECO_UNIT_3.astype(float)\n"
   ]
  },
  {
   "cell_type": "code",
   "execution_count": 48,
   "metadata": {},
   "outputs": [
    {
     "name": "stdout",
     "output_type": "stream",
     "text": [
      "0\n",
      "PRECO_UNIT_0\n",
      "1\n",
      "PRECO_UNIT_1\n",
      "2\n",
      "PRECO_UNIT_2\n",
      "3\n",
      "PRECO_UNIT_3\n"
     ]
    }
   ],
   "source": [
    "# A coluna com os preços do edital se chama PRECO_UNIT_0\n",
    "# As colunas com os preços das empresas se chamam PRECO_UNIT_#, com # o numero da empresa\n",
    "# começando com 1.\n",
    "\n",
    "# aqui geramos uma lista vazia que conterá \n",
    "# os nomes das Pandas.Series para as empresas \n",
    "# que estão se aplicando no Edital\n",
    "lista_de_series_empresas = ['']*qntEmp\n",
    "\n",
    "# aqui inserimos os nomes das series pandas\n",
    "for i in range(0,qntEmp):\n",
    "    print(i)\n",
    "    serie_title = f'PRECO_UNIT_{i}'\n",
    "    lista_de_series_empresas[i] = serie_title\n",
    "    print(lista_de_series_empresas[i])"
   ]
  },
  {
   "cell_type": "code",
   "execution_count": 49,
   "metadata": {},
   "outputs": [
    {
     "name": "stdout",
     "output_type": "stream",
     "text": [
      "['PRECO_UNIT_0', 'PRECO_UNIT_1', 'PRECO_UNIT_2', 'PRECO_UNIT_3']\n"
     ]
    }
   ],
   "source": [
    "#iremos copiar a lista de nomes\n",
    "# pra poder usar o metodo list.remove(_)\n",
    "# sem alterar a lista original\n",
    "copia_da_lista_empresas = lista_de_series_empresas.copy()\n",
    "print(copia_da_lista_empresas)"
   ]
  },
  {
   "cell_type": "code",
   "execution_count": 50,
   "metadata": {},
   "outputs": [],
   "source": [
    "tabela_diff_abs_empresas = pd.DataFrame()\n",
    "tabela_diff_perc_empresas = pd.DataFrame()\n",
    "\n",
    "for s_t in lista_de_series_empresas: # s_t stands for series_title    \n",
    "    # remove o primeiro elemento da lista\n",
    "    copia_da_lista_empresas.remove(s_t)\n",
    "    for s_t2 in copia_da_lista_empresas:\n",
    "        #gerando as colunas de diferenças absolutas\n",
    "        coluna1 = (dados[s_t] - dados[s_t2])\n",
    "        titulo_da_coluna1 = f'{s_t}_{s_t2}'\n",
    "        \n",
    "        #gerando as colunas de diferenças relativas\n",
    "        coluna2 = 100*((dados[s_t] - dados[s_t2])/dados[s_t])\n",
    "        titulo_da_coluna2 = f'{s_t}_{s_t2}'\n",
    "        \n",
    "        tabela_diff_abs_empresas[titulo_da_coluna1] = coluna1 \n",
    "        tabela_diff_perc_empresas[titulo_da_coluna2] = coluna2\n",
    "\n",
    "    \n",
    "    \n",
    "    \"\"\"\n",
    "    print(copia_da_lista_empresas)\n",
    "    print(lista_de_series_empresas)\n",
    "    #\n",
    "    print(s_t)\n",
    "    \"\"\"\n",
    "    "
   ]
  },
  {
   "cell_type": "code",
   "execution_count": 51,
   "metadata": {},
   "outputs": [],
   "source": [
    "# exemplo. Apagar depois\n",
    "contagem_diff_abs = tabela_diff_abs_empresas.groupby(tabela_diff_abs_empresas['PRECO_UNIT_1_PRECO_UNIT_2'].map(lambda x: \"%.2f\" % x)).size()"
   ]
  },
  {
   "cell_type": "code",
   "execution_count": 52,
   "metadata": {},
   "outputs": [],
   "source": [
    "# vamos gerar duas listas que recebem \n",
    "# as séries oriundas da contagem de repetições\n",
    "lista_repeticoes_abs = list()\n",
    "lista_repeticoes_perc = list()"
   ]
  },
  {
   "cell_type": "code",
   "execution_count": 53,
   "metadata": {},
   "outputs": [],
   "source": [
    "# precisamos dos nomes das colunas do dataframe\n",
    "# pra poder iterar sobre os dataframes tabela_diff_abs_empresas\n",
    "# e tabela_diff_perc_empresas\n",
    "\n",
    "colunas_dataframe_abs = list(tabela_diff_abs_empresas.columns.values) # lista de nomes de colunas em tabela_diff_abs_empresas\n",
    "colunas_dataframe_perc = list(tabela_diff_perc_empresas.columns.values) # lista de nomes de colunas em tabela_diff_perc_empresas"
   ]
  },
  {
   "cell_type": "code",
   "execution_count": 54,
   "metadata": {},
   "outputs": [],
   "source": [
    "# agora iremos construir as listas de contagens de repetições\n",
    "\n",
    "for titulo in colunas_dataframe_abs: # ambos os dataframes possuem o mesmo nome pras colunas\n",
    "                                    # assim, vamos escolher qualquer um dos dataframes pra \n",
    "                                    # ser iterado.\n",
    "            \n",
    "    # aqui geraremos as contagens das repetições que existem na coluna nomeada com 'titulo'\n",
    "    # pro dataframe tabela_diff_perc_empresas e tabela_diff_abs_empresas.\n",
    "    contagem_abs = tabela_diff_abs_empresas.groupby(tabela_diff_abs_empresas[titulo].map(lambda x: \"%.2f\" % x)).size()\n",
    "    contagem_perc = tabela_diff_perc_empresas.groupby(tabela_diff_perc_empresas[titulo].map(lambda x: \"%.1f\" % x)).size()\n",
    "    \n",
    "    # após gerar as contagens precisamos colocá-las nas listas de contagens\n",
    "      \n",
    "    lista_repeticoes_abs.append(contagem_abs)\n",
    "    lista_repeticoes_perc.append(contagem_perc)\n"
   ]
  },
  {
   "cell_type": "code",
   "execution_count": 56,
   "metadata": {},
   "outputs": [],
   "source": [
    "for i in range(0,len(lista_repeticoes_abs)):\n",
    "    lista_repeticoes_abs[i]=lista_repeticoes_abs[i].sort_values(ascending=False)\n",
    "    lista_repeticoes_perc[i]=lista_repeticoes_perc[i].sort_values(ascending=False)"
   ]
  },
  {
   "cell_type": "code",
   "execution_count": 57,
   "metadata": {
    "scrolled": true
   },
   "outputs": [
    {
     "data": {
      "image/png": "[encoded data removed]",
      "text/plain": [
       "<Figure size 432x288 with 1 Axes>"
      ]
     },
     "metadata": {
      "needs_background": "light"
     },
     "output_type": "display_data"
    },
    {
     "data": {
      "image/png": "[encoded data removed]",
      "text/plain": [
       "<Figure size 432x288 with 1 Axes>"
      ]
     },
     "metadata": {
      "needs_background": "light"
     },
     "output_type": "display_data"
    },
    {
     "data": {
      "image/png": "[encoded data removed]",
      "text/plain": [
       "<Figure size 432x288 with 1 Axes>"
      ]
     },
     "metadata": {
      "needs_background": "light"
     },
     "output_type": "display_data"
    },
    {
     "data": {
      "image/png": "[encoded data removed]",
      "text/plain": [
       "<Figure size 432x288 with 1 Axes>"
      ]
     },
     "metadata": {
      "needs_background": "light"
     },
     "output_type": "display_data"
    },
    {
     "data": {
      "image/png": "[encoded data removed]",
      "text/plain": [
       "<Figure size 432x288 with 1 Axes>"
      ]
     },
     "metadata": {
      "needs_background": "light"
     },
     "output_type": "display_data"
    },
    {
     "data": {
      "image/png": "[encoded data removed]",
      "text/plain": [
       "<Figure size 432x288 with 1 Axes>"
      ]
     },
     "metadata": {
      "needs_background": "light"
     },
     "output_type": "display_data"
    }
   ],
   "source": [
    "for i in range (0,len(lista_repeticoes_abs)):\n",
    "\n",
    "    soma = lista_repeticoes_abs[i].astype(float).values.sum()\n",
    "    \n",
    "    for j in range(0,len(lista_repeticoes_abs[i])):\n",
    "        \n",
    "        lista_repeticoes_abs[i][j]=100*(lista_repeticoes_abs[i][j]/soma)\n",
    "        lista_repeticoes_perc[i][j]=100*(lista_repeticoes_perc[i][j]/soma)\n",
    "        \n",
    "    plt.figure(i)\n",
    "    lista_repeticoes_abs[i].plot(kind='bar')"
   ]
  }
 ],
 "metadata": {
  "kernelspec": {
   "display_name": "Python 3",
   "language": "python",
   "name": "python3"
  },
  "language_info": {
   "codemirror_mode": {
    "name": "ipython",
    "version": 3
   },
   "file_extension": ".py",
   "mimetype": "text/x-python",
   "name": "python",
   "nbconvert_exporter": "python",
   "pygments_lexer": "ipython3",
   "version": "3.7.3"
  }
 },
 "nbformat": 4,
 "nbformat_minor": 2
}
